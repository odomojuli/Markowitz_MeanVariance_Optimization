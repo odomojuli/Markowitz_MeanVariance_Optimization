{
 "cells": [
  {
   "cell_type": "markdown",
   "metadata": {},
   "source": [
    "## MEAN-VARIANCE PORTFOLIO OPTIMIZATION AND BEHAVIORAL PORTFOLIO THEORY (MENTAL ACCOUNTS OPTIMIZATION)"
   ]
  },
  {
   "cell_type": "code",
   "execution_count": 1,
   "metadata": {
    "collapsed": false
   },
   "outputs": [
    {
     "name": "stdout",
     "output_type": "stream",
     "text": [
      "Populating the interactive namespace from numpy and matplotlib\n"
     ]
    }
   ],
   "source": [
    "%pylab inline"
   ]
  },
  {
   "cell_type": "markdown",
   "metadata": {},
   "source": [
    "### DIVERSIFICATION"
   ]
  },
  {
   "cell_type": "markdown",
   "metadata": {},
   "source": [
    "DIVERSIFICATION OF A PORTFOLIO\n",
    "\n",
    "It is useful to examine the power of using vector algebra with an application. Here we use vector and summation math to understand how diversification in stock portfolios works. Diversification occurs when we increase the number of non-perfectly correlated stocks in a portfolio, thereby reducing portfolio variance. In order to compute the variance of the portfolio we need to use the portfolio weights ${\\bf w}$ and the covariance matrix of stock returns ${\\bf R}$, denoted ${\\bf \\Sigma}$. We first write down the formula for a portfolio's return variance: \n",
    "\n",
    "\\begin{equation}\n",
    "Var(\\boldsymbol{w'R}) = \\boldsymbol{w'\\Sigma w} = \\sum_{i=1}^n \\boldsymbol{w_i^2 \\sigma_i^2}\n",
    "+ \\sum_{i=1}^n \\sum_{j=1,i \\neq j}^n \\boldsymbol{w_i w_j \\sigma_{ij}}\n",
    "\\end{equation}\n",
    "\n",
    "Readers are strongly encouraged to implement this by hand for $n=2$ to convince themselves that the vector form of the expression for variance $\\boldsymbol{w'\\Sigma w}$ is the same thing as the long form on the right-hand side of the equation above. \n",
    "If returns are independent, then the formula collapses to: \n",
    "\n",
    "\\begin{equation}\n",
    "Var(\\bf{w'R}) = \\bf{w'\\Sigma w} = \\sum_{i=1}^n \\boldsymbol{w_i^2 \\sigma_i^2}\n",
    "\\end{equation}\n",
    "\n",
    "If returns are dependent, and equal amounts are invested in\n",
    "each asset ($w_i=1/n,\\;\\;\\forall i$):\n",
    "\n",
    "\\begin{eqnarray*}\n",
    "Var(\\bf{w'R}) &=&  \\frac{1}{n}\\sum_{i=1}^n \\frac{\\sigma_i^2}{n}\n",
    "+ \\frac{n-1}{n}\\sum_{i=1}^n \\sum_{j=1,i \\neq j}^n  \\frac{\\sigma_{ij}}{n(n-1)}\\\\\n",
    "&=& \\frac{1}{n} \\bar{\\sigma_i}^2 + \\frac{n-1}{n} \\bar{\\sigma_{ij}}\\\\\n",
    "&=& \\frac{1}{n} \\bar{\\sigma_i}^2 + \\left(1 - \\frac{1}{n} \\right) \\bar{\\sigma_{ij}}\n",
    "\\end{eqnarray*}\n",
    "\n",
    "The first term is the average variance, denoted $\\bar{\\sigma_1}^2$ divided by $n$, and the second is the average covariance, denoted $\\bar{\\sigma_{ij}}$ multiplied by factor $(n-1)/n$. As $n \\rightarrow \\infty$,\n",
    "\n",
    "\\begin{equation}\n",
    "Var({\\bf w'R}) = \\bar{\\sigma_{ij}}\n",
    "\\end{equation}\n",
    "\n",
    "This produces the remarkable result that in a well diversified portfolio, the variances of each stock's return does not matter at all for portfolio risk! Further the risk of the portfolio, i.e., its variance, is nothing but the average of off-diagonal terms in the covariance matrix. "
   ]
  },
  {
   "cell_type": "code",
   "execution_count": 2,
   "metadata": {
    "collapsed": false
   },
   "outputs": [
    {
     "data": {
      "text/plain": [
       "array([[ 2.,  1.,  1.],\n",
       "       [ 1.,  2.,  1.],\n",
       "       [ 1.,  1.,  2.]])"
      ]
     },
     "execution_count": 2,
     "metadata": {},
     "output_type": "execute_result"
    }
   ],
   "source": [
    "x = ones((3,3))\n",
    "fill_diagonal(x,2)\n",
    "x"
   ]
  },
  {
   "cell_type": "code",
   "execution_count": 3,
   "metadata": {
    "collapsed": false
   },
   "outputs": [
    {
     "data": {
      "text/plain": [
       "[<matplotlib.lines.Line2D at 0x104fcd250>]"
      ]
     },
     "execution_count": 3,
     "metadata": {},
     "output_type": "execute_result"
    },
    {
     "data": {
      "image/png": "[encoded data removed]",
      "text/plain": [
       "<matplotlib.figure.Figure at 0x104f274d0>"
      ]
     },
     "metadata": {},
     "output_type": "display_data"
    }
   ],
   "source": [
    "sd=0.50; cv=0.05; m=100\n",
    "sd_p = zeros(m)\n",
    "for j in range(m+1):\n",
    "    cv_mat = ones((j,j))*cv\n",
    "    fill_diagonal(cv_mat,sd**2)\n",
    "    w = ones(j)/(1.0*j)\n",
    "    sd_p[j-1] = sqrt(w.T.dot(cv_mat).dot(w))\n",
    "    \n",
    "plot(sd_p)"
   ]
  },
  {
   "cell_type": "markdown",
   "metadata": {},
   "source": [
    "PORTFOLIO PROBLEM\n",
    "\n",
    "We are interested in portfolios of $n$ assets, which have a mean return which we denote as $E(r_p)$, and a variance, denoted $Var(r_p)$.\n",
    "\n",
    "Let $\\underline{w} \\in R^n$ be the portfolio weights. What this means is that we allocate each \\$1 into various assets, such that the total of the weights sums up to 1. Note that we do not preclude short-selling, so that it is possible for weights to be negative as well. "
   ]
  },
  {
   "cell_type": "markdown",
   "metadata": {},
   "source": [
    "The optimization problem is defined as follows. We wish to find the portfolio that delivers the minimum variance (risk) while achieving a pre-specified level of expected (mean) return. \n",
    "\\begin{equation}\n",
    "\\min_{\\underline{w}} \\quad \\frac{1}{2}\\: \\underline{w}' \\underline{\\Sigma} \\: \\underline{w} \n",
    "\\end{equation}\n",
    "subject to \n",
    "\\begin{eqnarray*}\n",
    "\\underline{w}'\\:\\underline{\\mu} &=& E(r_p) \\\\\n",
    "\\underline{w}'\\:\\underline{1} &=& 1\n",
    "\\end{eqnarray*}\n",
    "Note that we have a $\\frac{1}{2}$ in front of the variance term above, which is for mathematical neatness as will become clear shortly. The minimized solution is not affected by scaling the objective function by a constant. \n",
    "\n",
    "The first constraint forces the expected return of the portfolio to a specified mean return, denoted $E(r_p)$, and the second constraint requires that the portfolio weights add up to 1, also known as the \"fully invested\" constraint. It is convenient that the constraints are equality constraints.  "
   ]
  },
  {
   "cell_type": "markdown",
   "metadata": {},
   "source": [
    "SOLUTION:\n",
    "\n",
    "This is a Lagrangian problem, and requires that we embed the constraints into the objective function using Lagragian multipliers $\\{\\lambda_1, \\lambda_2\\}$. This results in the following minimization problem:\n",
    "\\begin{equation}\n",
    "\\min_{\\underline{w}\\, ,\\lambda_1, \\lambda_2} \\quad L=\\frac{1}{2}\\:\\underline{w}'\\underline{\\Sigma} \\:\\underline{w}+\n",
    "\\lambda_1[E(r_p)-\\underline{w}'\\underline{\\mu}]+\\lambda_2[1-\\underline{w}'\\underline{1}\\;]\n",
    "\\end{equation}\n",
    "\n",
    "To minimize this function, we take derivatives with respect to $\\underline{w}$, $\\lambda_1$, and $\\lambda_2$, to arrive at the first order conditions:\n",
    "\\begin{eqnarray*}\n",
    "\\frac{\\partial L}{\\partial \\underline{w}} &=& \\underline{\\Sigma}\\:\n",
    "\\underline{w} - \\lambda_1 \\underline{\\mu} - \\lambda_2\n",
    "\\underline{1}= \\underline{0} \\qquad(1) \\\\\n",
    "\\\\\n",
    "\\frac{\\partial L}{\\partial \\lambda_1}\n",
    "&=& E(r_p)-\\underline{w}'\\underline{\\mu}= 0 \\\\\n",
    "\\\\\n",
    "\\frac{\\partial L}{\\partial \\lambda_2}\n",
    "&=& 1-\\underline{w}'\\underline{1}= 0\n",
    "\\end{eqnarray*}\n",
    "\n",
    "The first equation above, is a system of $n$ equations, because the derivative is taken with respect to every element of the vector $\\underline{w}$. Hence, we have a total of $(n+2)$ first-order conditions. \n",
    "From (1)\n",
    "\\begin{eqnarray*}\n",
    "\\underline{w} &=& \\Sigma^{-1}(\\lambda_1\\underline{\\mu}+\\lambda_2\\underline{1}) \\\\\n",
    " &=& \\lambda_1\\Sigma^{-1}\\underline{\\mu}+\\lambda_2\\Sigma^{-1}\\underline{1}\n",
    "\\quad(2)\n",
    "\\end{eqnarray*}\n",
    "\n",
    "Premultiply (2) by $\\underline{\\mu}'$:\n",
    "\\begin{equation}\n",
    "\\underline{\\mu}'\\underline{w}=\\lambda_1\\underbrace{\\,\\underline{\\mu}'\\underline{\\Sigma}^{-1}\\underline{\\mu}\\,}_B+\n",
    "\\lambda_2\\underbrace{\\,\\underline{\\mu}'\\underline{\\Sigma}^{-1}\\underline{1}\\,}_A=E(r_p)\n",
    "\\end{equation}\n",
    "\n",
    "Also premultiply (2) by $\\underline{1}'$:\n",
    "\\begin{equation}\n",
    "\\underline{1}'\\underline{w}=\\lambda_1\\underbrace{\\,\\underline{1}'\\underline{\\Sigma}^{-1}\\underline{\\mu}}_A+\n",
    "\\lambda_2\\underbrace{\\,\\underline{1}'\\underline{\\Sigma}^{-1}\\underline{1}}_C=1\n",
    "\\end{equation}\n",
    "\n",
    "Solve for $\\lambda_1, \\lambda_2$\n",
    "\\begin{equation}\n",
    "\\lambda_1=\\frac{CE(r_p)-A}{D}\n",
    "\\end{equation}\n",
    "\n",
    "\\begin{equation}\n",
    "\\lambda_2=\\frac{B-AE(r_p)}{D}\n",
    "\\end{equation}\n",
    "\n",
    "\\begin{equation}\n",
    "\\mbox{where} \\quad D=BC-A^2\n",
    "\\end{equation}\n"
   ]
  },
  {
   "cell_type": "markdown",
   "metadata": {},
   "source": [
    "Note 1: Since $\\underline{\\Sigma}$ is positive definite,\n",
    "$\\underline{\\Sigma}^{-1}$ is also positive definite: $B>0, C>0$."
   ]
  },
  {
   "cell_type": "markdown",
   "metadata": {},
   "source": [
    "Note 2: Given solutions for $\\lambda_1, \\lambda_2$, we solve for\n",
    "$\\underline{w}$.\n",
    "\\begin{equation}\n",
    "\\underline{w}=\\underbrace{\\;\\frac{1}{D}\\,[B\\underline{\\Sigma}^{-1}\\underline{1}\n",
    "-A\\underline{\\Sigma}^{-1}\\underline{\\mu}]}_{\\underline{g}}+\\underbrace{\\;\\frac{1}{D\n",
    "}\\,[C\\underline{\\Sigma}^{-1}\\underline{\\mu} -\n",
    "A\\underline{\\Sigma}^{-1}\\underline{1}\\,]}_{\\underline{h}}\\cdot E(r_p)\n",
    "\\end{equation}\n",
    "This is the expression for the optimal portfolio weights that minimize the variance for given expected return $E(r_p)$. We see that the vectors $\\underline{g}$, $\\underline{h}$ are fixed once we are given the inputs to the problem, i.e., $\\underline{\\mu}$ and $\\underline{\\Sigma}$. "
   ]
  },
  {
   "cell_type": "markdown",
   "metadata": {},
   "source": [
    "Note 3: We can vary $E(r_p)$ to get a set of frontier (efficient or optimal) portfolios \\underline{w}.\n",
    "\\begin{equation}\n",
    "\\underline{w}=\\underline{g}+\\underline{h}\\,E(r_p)\n",
    "\\end{equation}\n",
    "\\vspace{-0.3in}\n",
    "\\begin{eqnarray*}\n",
    "if \\quad E(r_p)&=& 0,\\; \\underline{w} = \\underline{g} \\\\\n",
    "if \\quad E(r_p)&=& 1,\\; \\underline{w} = \\underline{g}+\\underline{h}\n",
    "\\end{eqnarray*}\n",
    "\n",
    "Note that \n",
    "\\begin{equation}\n",
    "\\underline{w}=\\underline{g}+\\underline{h}\\,E(r_p)=[1-E(r_p)]\\,\\underline{g}+E(r_p)[\\,\\underline{g}+\\underline{h}\\:]\n",
    "\\end{equation}\n",
    "\n",
    "Hence these 2 portfolios $\\underline{g}, \\underline{g} +\n",
    "\\underline{h}$ \"generate\" the entire frontier.\n"
   ]
  },
  {
   "cell_type": "code",
   "execution_count": 4,
   "metadata": {
    "collapsed": false
   },
   "outputs": [],
   "source": [
    "def markowitz(mu,cv,Er):\n",
    "    n = len(mu)\n",
    "    wuns = ones(n)\n",
    "    cvinv = linalg.inv(cv)\n",
    "    A = wuns.T.dot(cvinv).dot(mu)\n",
    "    B = mu.T.dot(cvinv).dot(mu)\n",
    "    C = wuns.T.dot(cvinv).dot(wuns)\n",
    "    D = B*C - A*A\n",
    "    lam = (C*Er-A)/D\n",
    "    gam = (B-A*Er)/D\n",
    "    wts = lam*(cvinv.dot(mu)) + gam*(cvinv.dot(wuns))\n",
    "    return wts"
   ]
  },
  {
   "cell_type": "code",
   "execution_count": 5,
   "metadata": {
    "collapsed": false
   },
   "outputs": [],
   "source": [
    "#PARAMETERS\n",
    "mu = array([0.02,0.10,0.20])\n",
    "n = len(mu)\n",
    "cv = array([0.0001,0,0,0,0.04,0.02,0,0.02,0.16])\n",
    "cv = cv.reshape(n,n)"
   ]
  },
  {
   "cell_type": "code",
   "execution_count": 6,
   "metadata": {
    "collapsed": false
   },
   "outputs": [
    {
     "data": {
      "text/plain": [
       "array([-0.35759312,  0.84366762,  0.5139255 ])"
      ]
     },
     "execution_count": 6,
     "metadata": {},
     "output_type": "execute_result"
    }
   ],
   "source": [
    "Er = 0.18\n",
    "\n",
    "#SOLVE PORTFOLIO PROBLEM\n",
    "wts = markowitz(mu,cv,Er)\n",
    "wts"
   ]
  },
  {
   "cell_type": "code",
   "execution_count": 7,
   "metadata": {
    "collapsed": false
   },
   "outputs": [
    {
     "name": "stdout",
     "output_type": "stream",
     "text": [
      "('Weights = ', array([-0.35759312,  0.84366762,  0.5139255 ]))\n",
      "('Sum of weights = ', 1.0000000000000084)\n",
      "('Expected return = ', 0.17999999999999966)\n",
      "('Std Dev of return = ', 0.088086189111747301)\n"
     ]
    }
   ],
   "source": [
    "print(\"Weights = \",wts)\n",
    "print(\"Sum of weights = \",sum(wts))\n",
    "print(\"Expected return = \",wts.T.dot(mu))\n",
    "print(\"Std Dev of return = \",wts.T.dot(cv).dot(wts))"
   ]
  },
  {
   "cell_type": "code",
   "execution_count": 8,
   "metadata": {
    "collapsed": false
   },
   "outputs": [
    {
     "data": {
      "text/plain": [
       "  status: 0\n",
       " success: True\n",
       "    njev: 5\n",
       "    nfev: 25\n",
       "     fun: 0.088086189340296328\n",
       "       x: array([-0.35759308,  0.84366754,  0.51392554])\n",
       " message: 'Optimization terminated successfully.'\n",
       "     jac: array([ -7.15181231e-05,   8.80504251e-02,   1.98202876e-01,\n",
       "         0.00000000e+00])\n",
       "     nit: 5"
      ]
     },
     "execution_count": 8,
     "metadata": {},
     "output_type": "execute_result"
    }
   ],
   "source": [
    "#NUMERICAL OPTIMIZATION\n",
    "from scipy.optimize import minimize\n",
    "\n",
    "def port_var(w,cv,mu,Er):\n",
    "    return w.T.dot(cv).dot(w)\n",
    "\n",
    "w0 = array([0.3,0.3,0.4])\n",
    "cons = ({'type': 'eq', 'fun': lambda x:  sum(x)-1.0}, {'type': 'eq', 'fun': lambda x: x.T.dot(mu)-Er})\n",
    "sol = minimize(port_var,w0,args=(cv,mu,Er),method=\"SLSQP\",constraints=cons)\n",
    "sol"
   ]
  },
  {
   "cell_type": "code",
   "execution_count": 9,
   "metadata": {
    "collapsed": false
   },
   "outputs": [
    {
     "data": {
      "text/plain": [
       "  status: 0\n",
       " success: True\n",
       "    njev: 3\n",
       "    nfev: 15\n",
       "     fun: 0.11040000019791732\n",
       "       x: array([ -4.85722573e-17,   1.99999999e-01,   8.00000001e-01])\n",
       " message: 'Optimization terminated successfully.'\n",
       "     jac: array([ 0.   ,  0.048,  0.264,  0.   ])\n",
       "     nit: 3"
      ]
     },
     "execution_count": 9,
     "metadata": {},
     "output_type": "execute_result"
    }
   ],
   "source": [
    "#NUMERICAL OPTIMIZATION WITH NO SHORT SELLING\n",
    "w0 = array([0.3,0.3,0.4])\n",
    "cons = ({'type': 'eq', 'fun': lambda x:  sum(x)-1}, {'type': 'eq', 'fun': lambda x: x.T.dot(mu)-Er}, \n",
    "        {'type': 'ineq', 'fun': lambda x:  min(x)-0})\n",
    "sol = minimize(port_var,w0,args=(cv,mu,Er),method=\"SLSQP\",constraints=cons)\n",
    "sol"
   ]
  },
  {
   "cell_type": "code",
   "execution_count": 10,
   "metadata": {
    "collapsed": false
   },
   "outputs": [
    {
     "data": {
      "image/png": "[encoded data removed]",
      "text/plain": [
       "<matplotlib.figure.Figure at 0x1068a6fd0>"
      ]
     },
     "metadata": {},
     "output_type": "display_data"
    }
   ],
   "source": [
    "#TRACING OUT THE EFFICIENT FRONTIER\n",
    "Er_vec = linspace(0.01,0.05,100)\n",
    "Sig_vec = zeros(len(Er_vec))\n",
    "j=0\n",
    "for Er in Er_vec:\n",
    "    wts = markowitz(mu,cv,Er)\n",
    "    Sig_vec[j] = sqrt(wts.T.dot(cv).dot(wts))\n",
    "    j=j+1\n",
    "    \n",
    "plot(Sig_vec,Er_vec)\n",
    "grid()"
   ]
  },
  {
   "cell_type": "code",
   "execution_count": 11,
   "metadata": {
    "collapsed": false
   },
   "outputs": [
    {
     "name": "stdout",
     "output_type": "stream",
     "text": [
      "         w1        w2        w3\n",
      "0 -0.302246 -0.939505  2.241751\n",
      "1  1.339291 -1.842156  1.502865\n",
      "2  0.257154 -0.241806  0.984653\n",
      "3 -1.499970 -1.969497  4.469467\n",
      "4 -1.226753 -0.113434  2.340187\n"
     ]
    },
    {
     "data": {
      "image/png": "[encoded data removed]",
      "text/plain": [
       "<matplotlib.figure.Figure at 0x107fa98d0>"
      ]
     },
     "metadata": {},
     "output_type": "display_data"
    }
   ],
   "source": [
    "#SIMULATE THE EFFICIENT FRONTIER\n",
    "import pandas as pd\n",
    "n = 10000\n",
    "w = pd.DataFrame(array(randn(2*n)).reshape(n,2))\n",
    "w.columns = [\"w1\",\"w2\"]\n",
    "w[\"w3\"] = 1-w[\"w1\"]-w[\"w2\"]\n",
    "print(w.head())\n",
    "Mu_ret = zeros(n)\n",
    "Sd_ret = zeros(n)\n",
    "for j in range(n):\n",
    "    wt = w.ix[j]\n",
    "    Mu_ret[j] = wt.T.dot(mu)\n",
    "    Sd_ret[j] = sqrt(wt.T.dot(cv).dot(wt))\n",
    "\n",
    "scatter(Sd_ret,Mu_ret)\n",
    "grid()"
   ]
  },
  {
   "cell_type": "markdown",
   "metadata": {},
   "source": [
    "PORTFOLIO PROBLEM WITH RISKLESS ASSETS\n",
    "\n",
    "We now enhance the portfolio problem to deal with risk less assets. The difference is that the fully-invested constraint is expanded to include the risk free asset. We require just a single equality constraint. The problem may be specified as follows.\n",
    "\\begin{equation}\n",
    "\\min_{\\underline{w}} \\quad \\frac{1}{2}\\: \\underline{w}' \\underline{\\Sigma} \\: \\underline{w} \n",
    "\\end{equation}\n",
    "\n",
    "\\begin{equation}\n",
    "s.t. \\quad \\underline{w}'\\underline{\\mu}+(1-\\underline{w}'\\underline{1}\\,)\\,r_f=E(r_p)\n",
    "\\end{equation}\n",
    "\n",
    "\\begin{equation}\n",
    "\\min_{\\underline{w}} \\quad L = \\frac{1}{2}\\:\\underline{w}'\\underline{\\Sigma} \\:\n",
    "\\underline{w}+\\lambda[E(r_p)-\\underline{w}'\\underline{\\mu}-(1-\\underline{w}'\\underline{1})r_f]\n",
    "\\end{equation}\n",
    "\n",
    "The first-order conditions for the problem are as follows. \n",
    "\\begin{eqnarray*}\n",
    "\\frac{\\partial L}{\\partial \\underline{w}}&=& \\underline{\\Sigma} \\:\n",
    "\\underline{w} - \\lambda \\underline{\\mu}+\\lambda\\,\\underline{1}\\,r_f=\\underline{0}\\\\\n",
    "\\frac{\\partial L}{\\partial\n",
    "\\lambda}&=& E(r_p)-\\underline{w}'\\underline{\\mu}-(1-\\underline{w}'\\underline{1})\\,r_f=0\n",
    "\\end{eqnarray*}\n",
    "\n",
    "Re-aranging, and solving for $\\underline{w}$ and $\\lambda$, we get the following manipulations, eventually leading to the desired solution. \n",
    "\\begin{eqnarray*}\n",
    "\\underline{\\Sigma} \\:\n",
    "\\underline{w}&=& \\lambda(\\underline{\\mu}-\\underline{1}\\:r_f)\\\\\n",
    "E(r_p)-r_f&=& \\underline{w}'(\\underline{\\mu}-\\underline{1}\\:r_f)\n",
    "\\end{eqnarray*}\n",
    "\n",
    "Take the first equation and proceed as follows:\n",
    "\\begin{eqnarray*}\n",
    "\\underline{w}&=& \\lambda \\underline{\\Sigma}^{-1} (\\underline{\\mu}-\\underline{1}\\:r_f)\\\\\n",
    "E(r_p)-r_f \\equiv (\\underline{\\mu} - \\underline{1} r_f)' \\underline{w}&=& \\lambda (\\underline{\\mu} - \\underline{1} r_f)' \\underline{\\Sigma}^{-1} (\\underline{\\mu}-\\underline{1}\\:r_f)\\\\\n",
    "\\end{eqnarray*}\n",
    "\n",
    "The first and third terms in the equation above then give that \n",
    "\\begin{equation}\n",
    "\\lambda = \\frac{E(r_p)-r_f}{(\\underline{\\mu} - \\underline{1} r_f)' \\underline{\\Sigma}^{-1} (\\underline{\\mu}-\\underline{1}\\:r_f)}\n",
    "\\end{equation}\n",
    "\n",
    "Substituting this back into the first foc results in the final solution. \n",
    "\\begin{equation}\n",
    "\\underline{w}=\\underline{\\Sigma}^{-1}(\\underline{\\mu}-\\underline{1}\\:r_f)\\frac{E(r_p)-r_f}{H}\n",
    "\\end{equation}\n",
    "\n",
    "\\begin{equation}\n",
    "\\mbox{where} \\quad H=(\\underline{\\mu}-r_f\\underline{1}\\:)'\\underline{\\Sigma}^{-1}(\\underline{\\mu}-r_f\\underline{1}\\:)\n",
    "\\end{equation}\n"
   ]
  },
  {
   "cell_type": "code",
   "execution_count": 12,
   "metadata": {
    "collapsed": false
   },
   "outputs": [],
   "source": [
    "def markowitz2(mu,cv,Er,rf):\n",
    "    n = len(mu)\n",
    "    wuns = ones(n)\n",
    "    x = mu - rf*wuns\n",
    "    cvinv = linalg.inv(cv)\n",
    "    H = x.T.dot(cvinv).dot(x)\n",
    "    wts = cvinv.dot(x) * (Er-rf)/H\n",
    "    return wts"
   ]
  },
  {
   "cell_type": "code",
   "execution_count": 13,
   "metadata": {
    "collapsed": false
   },
   "outputs": [
    {
     "name": "stdout",
     "output_type": "stream",
     "text": [
      "('Wts in stocks', array([ 6.70307845,  0.11842105,  0.06479643]))\n",
      "('Wts in risk free asset', -5.8862959285004974)\n",
      "('Exp return', 0.10000000000000002)\n",
      "('Std Dev of return', 0.077670912224330702)\n"
     ]
    }
   ],
   "source": [
    "#PARAMETERS\n",
    "mu = array([0.02,0.10,0.20])\n",
    "n = len(mu)\n",
    "cv = array([0.0001,0,0,0,0.04,0.02,0,0.02,0.16])\n",
    "cv = cv.reshape(n,n)\n",
    "Er = 0.10\n",
    "rf = 0.01\n",
    "\n",
    "sol = markowitz2(mu,cv,Er,rf)\n",
    "print(\"Wts in stocks\",sol)\n",
    "print(\"Wts in risk free asset\",1-sum(sol))\n",
    "print(\"Exp return\", rf + sol.T.dot(mu-rf))\n",
    "print(\"Std Dev of return\", sqrt(sol.T.dot(cv).dot(sol)))"
   ]
  },
  {
   "cell_type": "markdown",
   "metadata": {
    "collapsed": false
   },
   "source": [
    "##MENTAL ACCOUNTS AND PORTFOLIO OPTIMIZATION\n",
    "\n",
    "See the paper by Das, Markowitz, Scheid, and Statman (2010) in the *Journal of Financial and Quantitative Analysis*. It may be downloaded here: http://journals.cambridge.org/repo_A772rEdS "
   ]
  },
  {
   "cell_type": "markdown",
   "metadata": {},
   "source": [
    "###PROBLEM AND SOLUTION\n",
    "\n",
    "This is from Das, Markowitz, Scheid, Statman (JFQA 2010).\n",
    "\n",
    "\\begin{equation}\n",
    "\\max_{\\bf w} {\\bf w}^{\\top} \\mu - \\frac{\\gamma}{2} {\\bf w}^{\\top} \\Sigma {\\bf w}\n",
    "\\end{equation}\n",
    "\n",
    "subject to \n",
    "\n",
    "\\begin{equation}\n",
    "{\\bf w}^{\\top} {\\bf 1} = 1, \\quad \\quad \\quad {\\bf 1} = [1, 1, 1, ..., 1]^{\\top} \\in {\\cal R}^n\n",
    "\\end{equation}\n",
    "\n",
    "The solution is: \n",
    "\n",
    "\\begin{equation}\n",
    "{\\bf w} = \\frac{1}{\\gamma} \\Sigma^{-1} \\left[\\mu - \\left(\\frac{{\\bf 1}^{\\top} \\Sigma^{-1} \\mu - \\gamma}{{\\bf 1}^{\\top} \\Sigma^{-1} {\\bf 1}} \\right) {\\bf 1} \\right] \\in {\\cal R}^n\n",
    "\\end{equation}\n",
    "\n",
    "*Proof*: To solve this maximization problem, we set up the Lagrangian with coefficient $\\lambda$:\n",
    "\n",
    "\\begin{equation}\n",
    "max_{{\\bf w},\\lambda} L = {\\bf w}^{\\top} \\mu - \\frac{\\gamma}{2} {\\bf w}^{\\top} \\Sigma {\\bf w} + \\lambda [1 - {\\bf w}^{\\top} {\\bf 1}\n",
    "\\end{equation}\n",
    "\n",
    "The first-order conditions are:\n",
    "\n",
    "\\begin{eqnarray}\n",
    "\\frac{\\partial L}{\\partial {\\bf w}} &=& \\mu - \\gamma \\Sigma {\\bf w} - \\lambda {\\bf 1} = {\\bf 0} \\\\\n",
    "\\frac{\\partial L}{\\partial \\lambda} &=& 1 - {\\bf w}^{\\top} {\\bf 1} = 0 \n",
    "\\end{eqnarray}\n",
    "\n",
    "Note that the first equation above is a system of $n$ equations. Reaaranging the equation gives:\n",
    "\n",
    "\\begin{equation}\n",
    "\\Sigma {\\bf w} = \\frac{1}{\\gamma} [\\mu - \\lambda {\\bf 1}]\n",
    "\\end{equation}\n",
    "\n",
    "and premultiplying both sides of this equation by $\\Sigma^{-1}$ results in\n",
    "\n",
    "\\begin{equation}\n",
    "{\\bf w} = \\frac{1}{\\gamma}\\Sigma^{-1} [\\mu - \\lambda {\\bf 1}] \\quad \\quad \\quad (EQN_W)\n",
    "\\end{equation}\n",
    "\n",
    "To solve for $\\lambda$ premultiply the previous equation by ${\\bf 1}^{\\top}$ to get\n",
    "\n",
    "\\begin{equation}\n",
    "{\\bf 1}^{\\top} {\\bf w} = \\frac{1}{\\gamma}{\\bf 1}^{\\top}\\Sigma^{-1} [\\mu - \\lambda {\\bf 1}]\n",
    "\\end{equation}\n",
    "\n",
    "This can now be solved for $\\lambda$:\n",
    "\n",
    "\\begin{equation}\n",
    "\\lambda = \\frac{{\\bf 1}^{\\top}\\Sigma^{-1} \\mu - \\gamma}{{\\bf 1}^{\\top}\\Sigma^{-1} {\\bf 1}}\n",
    "\\end{equation}\n",
    "\n",
    "Plugging $\\lambda$ back into equation (EQN_W) gives the final solution as noted before:\n",
    "\n",
    "\\begin{equation}\n",
    "{\\bf w} = \\frac{1}{\\gamma} \\Sigma^{-1} \\left[\\mu - \\left(\\frac{{\\bf 1}^{\\top} \\Sigma^{-1} \\mu - \\gamma}{{\\bf 1}^{\\top} \\Sigma^{-1} {\\bf 1}} \\right) {\\bf 1} \\right] \\in {\\cal R}^n\n",
    "\\end{equation}\n"
   ]
  },
  {
   "cell_type": "markdown",
   "metadata": {
    "collapsed": true
   },
   "source": [
    "####EXAMPLE\n",
    "\n",
    "Let's use an example of a portfolio of three securities. \n",
    "\n",
    "| Security | Expected Returns | Standard Deviations |\n",
    "|:--------:|:----------------:|:-------------------:|\n",
    "| Bond     | 5%               | 5%                  |\n",
    "| Low-risk stock | 10%        | 20%                 |\n",
    "|High-risk stock | 25%        | 50%                 |\n",
    "\n",
    "The correlation between the two stocks is 0.20, and all other correlations are zero. \n",
    "\n",
    "Assume the investor has separate goals and sub-portfolios: \n",
    "\n",
    "| Goal (subportfolio) | Current allocation | Time Horizon | Annualized Return goal | Total Accumulation goal | \n",
    "|:-------------------:|:------------------:|:------------:|:----------------------:|------------------------:|\n",
    "| Bequest             | \\$200,000          | 25 years     | 26.35%                 | \\$69,248,625 | \n",
    "| Education           | \\$200,000          | 3 years      | 12.18%                 | \\$282,343 | \n",
    "| Retirement Account  | \\$600,000          | 15 years     | 10.23%                 | \\$2,586,118 | \n",
    "\n",
    "Solve these individual portfolio problems."
   ]
  },
  {
   "cell_type": "code",
   "execution_count": 14,
   "metadata": {
    "collapsed": false
   },
   "outputs": [
    {
     "name": "stdout",
     "output_type": "stream",
     "text": [
      "[ 0.05  0.1   0.25]\n"
     ]
    },
    {
     "data": {
      "text/plain": [
       "array([[ 0.0025,  0.    ,  0.    ],\n",
       "       [ 0.    ,  0.04  ,  0.02  ],\n",
       "       [ 0.    ,  0.02  ,  0.25  ]])"
      ]
     },
     "execution_count": 14,
     "metadata": {},
     "output_type": "execute_result"
    }
   ],
   "source": [
    "mu = array([0.05, 0.10, 0.25])\n",
    "print(mu)\n",
    "Sigma = zeros((3,3))\n",
    "Sigma[0,0]=0.05**2; Sigma[1,1]=0.20**2; Sigma[2,2]=0.50**2\n",
    "Sigma[0,1]=Sigma[1,0]=Sigma[0,2]=Sigma[2,0]=0.0\n",
    "Sigma[1,2]=Sigma[2,1]=0.20*0.20*0.50\n",
    "Sigma"
   ]
  },
  {
   "cell_type": "code",
   "execution_count": 15,
   "metadata": {
    "collapsed": true
   },
   "outputs": [],
   "source": [
    "def Mwts(mu,Sigma,gamma):\n",
    "    n = len(mu)\n",
    "    wuns = ones(n)\n",
    "    Sinv = linalg.inv(Sigma)\n",
    "    x1 = wuns.T.dot(Sinv).dot(mu) - gamma\n",
    "    x2 = wuns.T.dot(Sinv).dot(wuns)\n",
    "    w = Sinv.dot(mu - (x1/x2)*wuns)/gamma\n",
    "    return w"
   ]
  },
  {
   "cell_type": "code",
   "execution_count": 16,
   "metadata": {
    "collapsed": false
   },
   "outputs": [
    {
     "name": "stdout",
     "output_type": "stream",
     "text": [
      "('Weights = ', array([ 0.53943066,  0.26562102,  0.19494831]))\n",
      "('Expected Return = ', 0.10227071394287299)\n",
      "('Std Dev Return = ', 0.12297215464413504)\n"
     ]
    }
   ],
   "source": [
    "#Retirement subportfolio\n",
    "gamma = 3.7950\n",
    "wts1 = Mwts(mu,Sigma,gamma)\n",
    "print(\"Weights = \",wts1)\n",
    "print(\"Expected Return = \",wts1.dot(mu))\n",
    "print(\"Std Dev Return = \",sqrt(wts1.dot(Sigma).dot(wts1)))"
   ]
  },
  {
   "cell_type": "code",
   "execution_count": 17,
   "metadata": {
    "collapsed": false
   },
   "outputs": [
    {
     "name": "stdout",
     "output_type": "stream",
     "text": [
      "('Weights = ', array([ 0.37874065,  0.34985369,  0.27140566]))\n",
      "('Expected Return = ', 0.12177381636093701)\n",
      "('Std Dev Return = ', 0.16573431813877659)\n"
     ]
    }
   ],
   "source": [
    "#Education subportfolio\n",
    "gamma = 2.7063\n",
    "wts2 = Mwts(mu,Sigma,gamma)\n",
    "print(\"Weights = \",wts2)\n",
    "print(\"Expected Return = \",wts2.dot(mu))\n",
    "print(\"Std Dev Return = \",sqrt(wts2.dot(Sigma).dot(wts2)))"
   ]
  },
  {
   "cell_type": "code",
   "execution_count": 18,
   "metadata": {
    "collapsed": false
   },
   "outputs": [
    {
     "name": "stdout",
     "output_type": "stream",
     "text": [
      "('Weights = ', array([-0.78903125,  0.96199219,  0.82703906]))\n",
      "('Expected Return = ', 0.26350742177669462)\n",
      "('Std Dev Return = ', 0.49132086431632138)\n"
     ]
    }
   ],
   "source": [
    "#Bequest subportfolio\n",
    "gamma = 0.8773\n",
    "wts3 = Mwts(mu,Sigma,gamma)\n",
    "print(\"Weights = \",wts3)\n",
    "print(\"Expected Return = \",wts3.dot(mu))\n",
    "print(\"Std Dev Return = \",sqrt(wts3.dot(Sigma).dot(wts3)))"
   ]
  },
  {
   "cell_type": "code",
   "execution_count": 19,
   "metadata": {
    "collapsed": false
   },
   "outputs": [
    {
     "name": "stdout",
     "output_type": "stream",
     "text": [
      "[ 0.24160028  0.42174179  0.33665793]\n"
     ]
    }
   ],
   "source": [
    "#Combined portfolio\n",
    "wts = 0.6*wts1+0.2*wts2+0.2*wts3\n",
    "print(wts)"
   ]
  },
  {
   "cell_type": "code",
   "execution_count": 20,
   "metadata": {
    "collapsed": false
   },
   "outputs": [
    {
     "data": {
      "image/png": "[encoded data removed]",
      "text/plain": [
       "<matplotlib.figure.Figure at 0x10692c550>"
      ]
     },
     "metadata": {},
     "output_type": "display_data"
    }
   ],
   "source": [
    "#GENERATE MEAN-VARIANCE FRONTIER USING gamma (risk aversion)\n",
    "m = 25\n",
    "gammas = linspace(0.5,4,m)\n",
    "Er = zeros(m)\n",
    "Sdr = zeros(m)\n",
    "j = 0\n",
    "for gamma in gammas:\n",
    "    w = Mwts(mu,Sigma,gamma)\n",
    "    Er[j] = w.T.dot(mu)\n",
    "    Sdr[j] = sqrt(w.T.dot(Sigma).dot(w))\n",
    "    j = j+1\n",
    "\n",
    "plot(Sdr,Er)\n",
    "grid()"
   ]
  },
  {
   "cell_type": "code",
   "execution_count": 21,
   "metadata": {
    "collapsed": false
   },
   "outputs": [
    {
     "data": {
      "text/html": [
       "<div style=\"max-height:1000px;max-width:1500px;overflow:auto;\">\n",
       "<table border=\"1\" class=\"dataframe\">\n",
       "  <thead>\n",
       "    <tr style=\"text-align: right;\">\n",
       "      <th></th>\n",
       "      <th>Gamma</th>\n",
       "      <th>Exp Return</th>\n",
       "      <th>SD Return</th>\n",
       "    </tr>\n",
       "  </thead>\n",
       "  <tbody>\n",
       "    <tr>\n",
       "      <th>0 </th>\n",
       "      <td> 0.500000</td>\n",
       "      <td> 0.421760</td>\n",
       "      <td> 0.859237</td>\n",
       "    </tr>\n",
       "    <tr>\n",
       "      <th>1 </th>\n",
       "      <td> 0.645833</td>\n",
       "      <td> 0.338670</td>\n",
       "      <td> 0.665922</td>\n",
       "    </tr>\n",
       "    <tr>\n",
       "      <th>2 </th>\n",
       "      <td> 0.791667</td>\n",
       "      <td> 0.286192</td>\n",
       "      <td> 0.543975</td>\n",
       "    </tr>\n",
       "    <tr>\n",
       "      <th>3 </th>\n",
       "      <td> 0.937500</td>\n",
       "      <td> 0.250041</td>\n",
       "      <td> 0.460089</td>\n",
       "    </tr>\n",
       "    <tr>\n",
       "      <th>4 </th>\n",
       "      <td> 1.083333</td>\n",
       "      <td> 0.223622</td>\n",
       "      <td> 0.398893</td>\n",
       "    </tr>\n",
       "    <tr>\n",
       "      <th>5 </th>\n",
       "      <td> 1.229167</td>\n",
       "      <td> 0.203473</td>\n",
       "      <td> 0.352311</td>\n",
       "    </tr>\n",
       "    <tr>\n",
       "      <th>6 </th>\n",
       "      <td> 1.375000</td>\n",
       "      <td> 0.187597</td>\n",
       "      <td> 0.315692</td>\n",
       "    </tr>\n",
       "    <tr>\n",
       "      <th>7 </th>\n",
       "      <td> 1.520833</td>\n",
       "      <td> 0.174766</td>\n",
       "      <td> 0.286170</td>\n",
       "    </tr>\n",
       "    <tr>\n",
       "      <th>8 </th>\n",
       "      <td> 1.666667</td>\n",
       "      <td> 0.164181</td>\n",
       "      <td> 0.261881</td>\n",
       "    </tr>\n",
       "    <tr>\n",
       "      <th>9 </th>\n",
       "      <td> 1.812500</td>\n",
       "      <td> 0.155299</td>\n",
       "      <td> 0.241562</td>\n",
       "    </tr>\n",
       "    <tr>\n",
       "      <th>10</th>\n",
       "      <td> 1.958333</td>\n",
       "      <td> 0.147740</td>\n",
       "      <td> 0.224325</td>\n",
       "    </tr>\n",
       "    <tr>\n",
       "      <th>11</th>\n",
       "      <td> 2.104167</td>\n",
       "      <td> 0.141228</td>\n",
       "      <td> 0.209528</td>\n",
       "    </tr>\n",
       "    <tr>\n",
       "      <th>12</th>\n",
       "      <td> 2.250000</td>\n",
       "      <td> 0.135561</td>\n",
       "      <td> 0.196698</td>\n",
       "    </tr>\n",
       "    <tr>\n",
       "      <th>13</th>\n",
       "      <td> 2.395833</td>\n",
       "      <td> 0.130584</td>\n",
       "      <td> 0.185473</td>\n",
       "    </tr>\n",
       "    <tr>\n",
       "      <th>14</th>\n",
       "      <td> 2.541667</td>\n",
       "      <td> 0.126177</td>\n",
       "      <td> 0.175578</td>\n",
       "    </tr>\n",
       "    <tr>\n",
       "      <th>15</th>\n",
       "      <td> 2.687500</td>\n",
       "      <td> 0.122249</td>\n",
       "      <td> 0.166795</td>\n",
       "    </tr>\n",
       "    <tr>\n",
       "      <th>16</th>\n",
       "      <td> 2.833333</td>\n",
       "      <td> 0.118726</td>\n",
       "      <td> 0.158952</td>\n",
       "    </tr>\n",
       "    <tr>\n",
       "      <th>17</th>\n",
       "      <td> 2.979167</td>\n",
       "      <td> 0.115547</td>\n",
       "      <td> 0.151911</td>\n",
       "    </tr>\n",
       "    <tr>\n",
       "      <th>18</th>\n",
       "      <td> 3.125000</td>\n",
       "      <td> 0.112665</td>\n",
       "      <td> 0.145559</td>\n",
       "    </tr>\n",
       "    <tr>\n",
       "      <th>19</th>\n",
       "      <td> 3.270833</td>\n",
       "      <td> 0.110040</td>\n",
       "      <td> 0.139802</td>\n",
       "    </tr>\n",
       "    <tr>\n",
       "      <th>20</th>\n",
       "      <td> 3.416667</td>\n",
       "      <td> 0.107639</td>\n",
       "      <td> 0.134566</td>\n",
       "    </tr>\n",
       "    <tr>\n",
       "      <th>21</th>\n",
       "      <td> 3.562500</td>\n",
       "      <td> 0.105435</td>\n",
       "      <td> 0.129785</td>\n",
       "    </tr>\n",
       "    <tr>\n",
       "      <th>22</th>\n",
       "      <td> 3.708333</td>\n",
       "      <td> 0.103404</td>\n",
       "      <td> 0.125404</td>\n",
       "    </tr>\n",
       "    <tr>\n",
       "      <th>23</th>\n",
       "      <td> 3.854167</td>\n",
       "      <td> 0.101526</td>\n",
       "      <td> 0.121379</td>\n",
       "    </tr>\n",
       "    <tr>\n",
       "      <th>24</th>\n",
       "      <td> 4.000000</td>\n",
       "      <td> 0.099786</td>\n",
       "      <td> 0.117670</td>\n",
       "    </tr>\n",
       "  </tbody>\n",
       "</table>\n",
       "</div>"
      ],
      "text/plain": [
       "       Gamma  Exp Return  SD Return\n",
       "0   0.500000    0.421760   0.859237\n",
       "1   0.645833    0.338670   0.665922\n",
       "2   0.791667    0.286192   0.543975\n",
       "3   0.937500    0.250041   0.460089\n",
       "4   1.083333    0.223622   0.398893\n",
       "5   1.229167    0.203473   0.352311\n",
       "6   1.375000    0.187597   0.315692\n",
       "7   1.520833    0.174766   0.286170\n",
       "8   1.666667    0.164181   0.261881\n",
       "9   1.812500    0.155299   0.241562\n",
       "10  1.958333    0.147740   0.224325\n",
       "11  2.104167    0.141228   0.209528\n",
       "12  2.250000    0.135561   0.196698\n",
       "13  2.395833    0.130584   0.185473\n",
       "14  2.541667    0.126177   0.175578\n",
       "15  2.687500    0.122249   0.166795\n",
       "16  2.833333    0.118726   0.158952\n",
       "17  2.979167    0.115547   0.151911\n",
       "18  3.125000    0.112665   0.145559\n",
       "19  3.270833    0.110040   0.139802\n",
       "20  3.416667    0.107639   0.134566\n",
       "21  3.562500    0.105435   0.129785\n",
       "22  3.708333    0.103404   0.125404\n",
       "23  3.854167    0.101526   0.121379\n",
       "24  4.000000    0.099786   0.117670"
      ]
     },
     "execution_count": 21,
     "metadata": {},
     "output_type": "execute_result"
    }
   ],
   "source": [
    "import pandas as pd\n",
    "data = array([gammas,Er,Sdr])\n",
    "data = data.T\n",
    "df = pd.DataFrame(data)\n",
    "df.columns = [\"Gamma\",\"Exp Return\",\"SD Return\"]\n",
    "df"
   ]
  },
  {
   "cell_type": "code",
   "execution_count": 22,
   "metadata": {
    "collapsed": false
   },
   "outputs": [],
   "source": [
    "#BEHAVIORAL PORTFOLIO OPTIMIZATION\n",
    "#H: threshold return\n",
    "#alpha: probability of not meeting H\n",
    "#Returns: gamma and wts\n",
    "\n",
    "from scipy.optimize import fsolve\n",
    "from scipy.stats import norm\n",
    "\n",
    "def solve_gamma(gamma,mu,Sigma,H,alpha):\n",
    "    w = Mwts(mu,Sigma,gamma)\n",
    "    res = w.T.dot(mu) + norm.ppf(alpha)*sqrt(w.dot(Sigma).dot(w)) - H\n",
    "    return res\n",
    "\n",
    "def Bwts(mu,Sigma,H,alpha):\n",
    "    gamma = fsolve(solve_gamma,2.0,args=(mu,Sigma,H,alpha))\n",
    "    print(\"gamma=\",gamma)\n",
    "    wts = Mwts(mu,Sigma,gamma)\n",
    "    return wts"
   ]
  },
  {
   "cell_type": "code",
   "execution_count": 23,
   "metadata": {
    "collapsed": false
   },
   "outputs": [
    {
     "name": "stdout",
     "output_type": "stream",
     "text": [
      "('gamma=', array([ 3.7950149]))\n",
      "('Weights = ', array([ 0.53943223,  0.2656202 ,  0.19494757]))\n",
      "('Expected Return = ', 0.10227052356042023)\n",
      "('Std Dev Return = ', 0.12297174669292789)\n"
     ]
    }
   ],
   "source": [
    "H=-0.10; alpha=0.05\n",
    "wts = Bwts(mu,Sigma,H,alpha)\n",
    "print(\"Weights = \",wts)\n",
    "print(\"Expected Return = \",wts.dot(mu))\n",
    "print(\"Std Dev Return = \",sqrt(wts.dot(Sigma).dot(wts)))"
   ]
  },
  {
   "cell_type": "code",
   "execution_count": 24,
   "metadata": {
    "collapsed": false
   },
   "outputs": [
    {
     "name": "stdout",
     "output_type": "stream",
     "text": [
      "('gamma=', array([ 2.70626249]))\n",
      "('Weights = ', array([ 0.37873288,  0.34985776,  0.27140935]))\n",
      "('Expected Return = ', 0.12177475876443071)\n",
      "('Std Dev Return = ', 0.16573641924863902)\n"
     ]
    }
   ],
   "source": [
    "H=-0.05; alpha=0.15\n",
    "wts = Bwts(mu,Sigma,H,alpha)\n",
    "print(\"Weights = \",wts)\n",
    "print(\"Expected Return = \",wts.dot(mu))\n",
    "print(\"Std Dev Return = \",sqrt(wts.dot(Sigma).dot(wts)))"
   ]
  },
  {
   "cell_type": "code",
   "execution_count": 25,
   "metadata": {
    "collapsed": false
   },
   "outputs": [
    {
     "name": "stdout",
     "output_type": "stream",
     "text": [
      "('gamma=', array([ 0.87729407]))\n",
      "('Weights = ', array([-0.78904293,  0.96199831,  0.82704462]))\n",
      "('Expected Return = ', 0.26350883888135762)\n",
      "('Std Dev Return = ', 0.49132415198924384)\n"
     ]
    }
   ],
   "source": [
    "H=-0.15; alpha=0.20\n",
    "wts = Bwts(mu,Sigma,H,alpha)\n",
    "print(\"Weights = \",wts)\n",
    "print(\"Expected Return = \",wts.dot(mu))\n",
    "print(\"Std Dev Return = \",sqrt(wts.dot(Sigma).dot(wts)))"
   ]
  },
  {
   "cell_type": "markdown",
   "metadata": {},
   "source": [
    "###NUMERICAL OPTIMIZATION WITH CONSTRAINTS IN BPT"
   ]
  },
  {
   "cell_type": "code",
   "execution_count": 26,
   "metadata": {
    "collapsed": false
   },
   "outputs": [],
   "source": [
    "#NUMERICAL OPTIMIZATION WITH CONSTRAINTS\n",
    "from scipy.optimize import minimize\n",
    "\n",
    "def port_Util(w,mu,Sigma,H,alpha):\n",
    "    return -1.0*w.T.dot(mu) + 0.5*w.T.dot(Sigma).dot(w)\n",
    "\n",
    "w0 = array([0.3,0.3,0.4])\n",
    "n = len(w0)\n",
    "L=0.0; U=1.0;\n",
    "cons = ({'type': 'eq', 'fun': lambda x:  sum(x)-1.0}, \n",
    "        {'type': 'ineq', 'fun': lambda x: x.T.dot(mu)+norm.ppf(alpha)*sqrt(x.dot(Sigma).dot(x)) - H}, \n",
    "        {'type': 'ineq', 'fun': lambda x: x - L},\n",
    "        {'type': 'ineq', 'fun': lambda x: U - x})"
   ]
  },
  {
   "cell_type": "code",
   "execution_count": 27,
   "metadata": {
    "collapsed": false
   },
   "outputs": [
    {
     "name": "stdout",
     "output_type": "stream",
     "text": [
      "('Weights = ', array([ 0.53946357,  0.26557838,  0.19495805]))\n",
      "('Expected Return = ', 0.10227052953650295)\n",
      "('Std Dev Return = ', 0.1229717598333773)\n"
     ]
    }
   ],
   "source": [
    "H=-0.10; alpha=0.05\n",
    "sol = minimize(port_Util,w0,args=(mu,Sigma,H,alpha),method=\"SLSQP\",constraints=cons)\n",
    "wts = sol.x\n",
    "print(\"Weights = \",wts)\n",
    "print(\"Expected Return = \",wts.dot(mu))\n",
    "print(\"Std Dev Return = \",sqrt(wts.dot(Sigma).dot(wts)))"
   ]
  },
  {
   "cell_type": "code",
   "execution_count": 28,
   "metadata": {
    "collapsed": false
   },
   "outputs": [
    {
     "name": "stdout",
     "output_type": "stream",
     "text": [
      "('Weights = ', array([ 0.37873289,  0.34985775,  0.27140936]))\n",
      "('Expected Return = ', 0.12177475885143639)\n",
      "('Std Dev Return = ', 0.16573641944262008)\n"
     ]
    }
   ],
   "source": [
    "H=-0.05; alpha=0.15\n",
    "sol = minimize(port_Util,w0,args=(mu,Sigma,H,alpha),method=\"SLSQP\",constraints=cons)\n",
    "wts = sol.x\n",
    "print(\"Weights = \",wts)\n",
    "print(\"Expected Return = \",wts.dot(mu))\n",
    "print(\"Std Dev Return = \",sqrt(wts.dot(Sigma).dot(wts)))"
   ]
  },
  {
   "cell_type": "code",
   "execution_count": 29,
   "metadata": {
    "collapsed": false
   },
   "outputs": [
    {
     "name": "stdout",
     "output_type": "stream",
     "text": [
      "('Weights = ', array([ -6.91064715e-17,   3.19999998e-01,   6.80000002e-01]))\n",
      "('Expected Return = ', 0.20200000035522864)\n",
      "('Std Dev Return = ', 0.35832945833472479)\n"
     ]
    }
   ],
   "source": [
    "H=-0.15; alpha=0.20\n",
    "sol = minimize(port_Util,w0,args=(mu,Sigma,H,alpha),method=\"SLSQP\",constraints=cons)\n",
    "wts = sol.x\n",
    "print(\"Weights = \",wts)\n",
    "print(\"Expected Return = \",wts.dot(mu))\n",
    "print(\"Std Dev Return = \",sqrt(wts.dot(Sigma).dot(wts)))"
   ]
  },
  {
   "cell_type": "code",
   "execution_count": null,
   "metadata": {
    "collapsed": true
   },
   "outputs": [],
   "source": []
  }
 ],
 "metadata": {
  "kernelspec": {
   "display_name": "Python 2",
   "language": "python",
   "name": "python2"
  },
  "language_info": {
   "codemirror_mode": {
    "name": "ipython",
    "version": 2
   },
   "file_extension": ".py",
   "mimetype": "text/x-python",
   "name": "python",
   "nbconvert_exporter": "python",
   "pygments_lexer": "ipython2",
   "version": "2.7.9"
  }
 },
 "nbformat": 4,
 "nbformat_minor": 0
}
